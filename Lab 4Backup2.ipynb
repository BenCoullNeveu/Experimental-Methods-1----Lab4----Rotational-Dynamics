{
 "cells": [
  {
   "cell_type": "code",
   "execution_count": 1,
   "id": "39f405ed",
   "metadata": {},
   "outputs": [],
   "source": [
    "import os \n",
    "import numpy as np\n",
    "import matplotlib.pyplot as plt"
   ]
  },
  {
   "cell_type": "markdown",
   "id": "7c9e62ea",
   "metadata": {},
   "source": [
    "Data Analysis"
   ]
  },
  {
   "cell_type": "code",
   "execution_count": 2,
   "id": "38547401",
   "metadata": {},
   "outputs": [
    {
     "name": "stdout",
     "output_type": "stream",
     "text": [
      "[[  2.   3.   4.   5.   6.   7.]\n",
      " [  9.  45.  82. 119. 156. 191.]]\n",
      "[[  2.   3.   4.   5.   6.   7.]\n",
      " [ 17.  89. 164. 239. 314. 389.]]\n",
      "[[  1.   2.   3.   4.   5.   6.]\n",
      " [ 55. 122. 191. 259. 326. 393.]]\n",
      "[[  1.   2.   3.   4.   5.   6.]\n",
      " [ 11.  45.  80. 114. 148. 183.]]\n"
     ]
    }
   ],
   "source": [
    "#importing the data of systems 1 through 4 for Part 1 a\n",
    "os.chdir('/Users/francodelbalso/Downloads')\n",
    "systems = np.genfromtxt('FinalSystems1-4.csv', delimiter=',')\n",
    "\n",
    "#seperating the data into each system\n",
    "system1 = []\n",
    "system2 = []\n",
    "system3 = []\n",
    "system4 = []\n",
    "\n",
    "for i in range(len(systems)):\n",
    "    if i < 6:\n",
    "        system1.append(systems[i])\n",
    "    elif i < 12: \n",
    "        system2.append(systems[i])\n",
    "    elif i < 18:\n",
    "        system3.append(systems[i])\n",
    "    else:\n",
    "        system4.append(systems[i])\n",
    "\n",
    "system1 = np.transpose(system1)\n",
    "system2 = np.transpose(system2)\n",
    "system3 = np.transpose(system3)\n",
    "system4 = np.transpose(system4)\n",
    "\n",
    "print(system1)\n",
    "print(system2)\n",
    "print(system3)\n",
    "print(system4)"
   ]
  },
  {
   "cell_type": "code",
   "execution_count": 3,
   "id": "845b4e69",
   "metadata": {},
   "outputs": [],
   "source": [
    "#defining quantities\n",
    "#masses in kg lengths in m\n",
    "mass25 = 23.4373/1000\n",
    "mass50 = 50.1393/1000\n",
    "SpulleyM = 10.0231/1000\n",
    "SpulleyR = (24.99/2)/1000\n",
    "LpulleyM = 36.0243/1000\n",
    "LpulleyR = (50/2)/1000\n",
    "LowSteelM = 1346.7/1000\n",
    "LowSteelR = (126.32/2)/1000\n",
    "UpSteelM = 1354.8/1000\n",
    "UpSteelR = (126.56/2)/1000\n",
    "UpAlumM = 470.8/1000\n",
    "UpAlumR = (126.25/2)/1000\n",
    "washerM = 1.0306/1000\n",
    "cylM = 25.48/1000\n",
    "cylRout = (22.93/2)/1000\n",
    "cylRin = (15.78/2)/1000\n",
    "spindleM = 15.83/1000\n",
    "g_montreal = 9.789"
   ]
  },
  {
   "cell_type": "markdown",
   "id": "7cf5bf55",
   "metadata": {},
   "source": [
    "5.1"
   ]
  },
  {
   "cell_type": "code",
   "execution_count": 4,
   "id": "075496df",
   "metadata": {},
   "outputs": [],
   "source": [
    "#calculating the angular acceleration\n",
    "#here, 6 values will be used, but only 5 acceleratons will be calculated\n",
    "\n",
    "def AverageAngularAcc(system, Rdisk):\n",
    "    sum = 0\n",
    "    for i in range(len(system[0])):\n",
    "        if i == 0:\n",
    "            continue #only need first value as the initial vprev\n",
    "        \n",
    "        dt = 1 #we are taking 1 second timesteps\n",
    "        v = system[1][i]*0.002 #tangential velocity as defined in manual\n",
    "        vprev = system[1][i-1]*0.002\n",
    "            \n",
    "        dw = (v-vprev)/Rdisk #change in angular velocity\n",
    "        \n",
    "        a = dw/dt\n",
    "        sum += a\n",
    "    return sum/(len(system[0])-1) #average of the 5 calculated accels\n",
    "\n",
    "a1 = AverageAngularAcc(system1,UpSteelR)\n",
    "a2 = AverageAngularAcc(system2,UpSteelR)\n",
    "a3 = AverageAngularAcc(system3,UpSteelR)\n",
    "a4 = AverageAngularAcc(system4,UpSteelR)\n",
    "\n",
    "#calculating moments of inertia\n",
    "#will be adding I of pulley to I of disk since they both make up the rotating system\n",
    "#will be using Icylinder = (MR**2)/2\n",
    "\n",
    "I1 = (UpSteelM*UpSteelR**2)/2 + (SpulleyM*SpulleyR**2)/2\n",
    "I2 = (UpSteelM*UpSteelR**2)/2 + (SpulleyM*SpulleyR**2)/2\n",
    "I3 = (UpSteelM*UpSteelR**2)/2 + (LpulleyM*LpulleyR**2)/2\n",
    "I4 = (2*UpSteelM*UpSteelR**2)/2 + (LpulleyM*LpulleyR**2)/2\n",
    "\n",
    "#the torque Ia will be determined for each system\n",
    "\n",
    "Ia1 = I1*a1\n",
    "Ia2 = I2*a2\n",
    "Ia3 = I3*a3\n",
    "Ia4 = I4*a4\n",
    "\n",
    "#Now determining the torque by the Fr = mgr method\n",
    "#m is mass, g is gravitational acceleration, r is radius of pulley\n",
    "\n",
    "Fr1 = mass25*g_montreal*SpulleyR\n",
    "Fr2 = mass50*g_montreal*SpulleyR\n",
    "Fr3 = mass25*g_montreal*LpulleyR\n",
    "Fr4 = mass25*g_montreal*LpulleyR"
   ]
  },
  {
   "cell_type": "code",
   "execution_count": 5,
   "id": "b4b6eda1",
   "metadata": {},
   "outputs": [
    {
     "name": "stdout",
     "output_type": "stream",
     "text": [
      "8.511226878886534\n",
      "3.9569346529578433\n",
      "1.450858902036773\n",
      "3.0033693343403365\n"
     ]
    }
   ],
   "source": [
    "#Comparing the torques by %difference\n",
    "\n",
    "#system1\n",
    "percentDif1 = 100*abs(Fr1-Ia1)/np.mean([Fr1,Ia1])\n",
    "print(percentDif1)\n",
    "\n",
    "#system2\n",
    "percentDif2 = 100*abs(Fr2-Ia2)/np.mean([Fr2,Ia2])\n",
    "print(percentDif2)\n",
    "\n",
    "#system3\n",
    "percentDif3 = 100*abs(Fr3-Ia3)/np.mean([Fr3,Ia3])\n",
    "print(percentDif3)\n",
    "\n",
    "#system4\n",
    "percentDif4 = 100*abs(Fr4-Ia4)/np.mean([Fr4,Ia4])\n",
    "print(percentDif4)"
   ]
  },
  {
   "cell_type": "markdown",
   "id": "ce3a808e",
   "metadata": {},
   "source": [
    "5.1.1"
   ]
  },
  {
   "cell_type": "code",
   "execution_count": 6,
   "id": "23014cd5",
   "metadata": {},
   "outputs": [
    {
     "name": "stdout",
     "output_type": "stream",
     "text": [
      "[[15.   30.   45.   60.   75.   90.  ]\n",
      " [ 4.48  6.14  7.68  8.76  9.82 10.77]]\n"
     ]
    }
   ],
   "source": [
    "#importing time-distance measurements\n",
    "distanceTime = np.genfromtxt('distanceTimes.csv', delimiter=',')\n",
    "distanceTime = np.transpose(distanceTime)\n",
    "print(distanceTime)"
   ]
  },
  {
   "cell_type": "code",
   "execution_count": 29,
   "id": "aed38b1f",
   "metadata": {},
   "outputs": [
    {
     "name": "stdout",
     "output_type": "stream",
     "text": [
      "[0.034414159454999996, 0.06882831890999999, 0.103242478365, 0.13765663781999998, 0.172070797275, 0.20648495673]\n",
      "[0.03901868577546043, 0.08309060371863901, 0.1194947251873476, 0.16328279872975984, 0.20302321392701034, 0.24305231368093083]\n",
      "[12.540781460965224, 18.77617950662107, 14.593203616770746, 17.030776161184587, 16.503818097666525, 16.268887746506042]\n"
     ]
    }
   ],
   "source": [
    "#decrease in potential energy\n",
    "def dU(measures):\n",
    "    dUs = []\n",
    "    for i in range(len(measures[0])):\n",
    "        dUs.append(mass25*g_montreal*(measures[0][i]/100))\n",
    "    return dUs\n",
    "\n",
    "\n",
    "#kinetic energy gained by the mass\n",
    "def KEmass(measures):\n",
    "    dKmasses = []\n",
    "    finalVs = []\n",
    "    for i in range(len(measures[0])):\n",
    "        dh = measures[0][i]/100 #cm to meters \n",
    "        t = measures[1][i] \n",
    "        A = 2*dh/t**2 #a as defined in manual\n",
    "        v = np.sqrt(2*A*dh) #final velocity\n",
    "        finalVs.append(v)\n",
    "        dKmasses.append((mass25*v**2)/2) #formula for kinetic energy\n",
    "    return finalVs, dKmasses\n",
    "\n",
    "\n",
    "#rotational energy gained by rotating disk\n",
    "def REdisk(velocities):\n",
    "    REs = []\n",
    "    I = (UpSteelM*UpSteelR**2)/2 + (SpulleyM*SpulleyR**2)/2\n",
    "    for i in range(len(velocities)):\n",
    "        w = velocities[i]/SpulleyR #final angular velocity from the final velocity of mass and v = rw\n",
    "        REs.append((I*w**2)/2) #formula for rotational kinetic energy\n",
    "    return REs\n",
    "\n",
    "\n",
    "#getting total energy gained\n",
    "Egained = []\n",
    "for i in range(len(kineticsMass)):\n",
    "    Egained.append(kineticsMass[i]+rotEnergies[i])\n",
    "\n",
    "    \n",
    "#percent difference between E gained and potential lost\n",
    "def percentDiff(U,E):\n",
    "    percents = []\n",
    "    for i in range(len(U)):\n",
    "        diff = 100*abs(U[i]-E[i])/np.mean([U[i],E[i]]) #percent difference formula\n",
    "        percents.append(diff)\n",
    "    return percents\n",
    "\n",
    "\n",
    "potentials = dU(distanceTime)\n",
    "velocities, kineticsMass = KEmass(distanceTime) \n",
    "rotEnergies = REdisk(velocities)\n",
    "Egained = Egained\n",
    "pctDiffs = percentDiff(potentials,Egained)\n",
    "\n",
    "print(potentials)\n",
    "print(Egained)\n",
    "print(pctDiffs)\n",
    "    \n"
   ]
  },
  {
   "cell_type": "code",
   "execution_count": null,
   "id": "ce1f7d6f",
   "metadata": {},
   "outputs": [],
   "source": []
  },
  {
   "cell_type": "code",
   "execution_count": null,
   "id": "8a3e53bd",
   "metadata": {},
   "outputs": [],
   "source": []
  }
 ],
 "metadata": {
  "kernelspec": {
   "display_name": "Python 3 (ipykernel)",
   "language": "python",
   "name": "python3"
  },
  "language_info": {
   "codemirror_mode": {
    "name": "ipython",
    "version": 3
   },
   "file_extension": ".py",
   "mimetype": "text/x-python",
   "name": "python",
   "nbconvert_exporter": "python",
   "pygments_lexer": "ipython3",
   "version": "3.9.12"
  }
 },
 "nbformat": 4,
 "nbformat_minor": 5
}
