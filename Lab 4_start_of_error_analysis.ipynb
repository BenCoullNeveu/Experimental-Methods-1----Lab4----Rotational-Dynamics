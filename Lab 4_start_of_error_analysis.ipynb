{
 "cells": [
  {
   "cell_type": "code",
   "execution_count": 1,
   "id": "39f405ed",
   "metadata": {},
   "outputs": [],
   "source": [
    "import os \n",
    "import numpy as np\n",
    "import matplotlib.pyplot as plt\n",
    "import math"
   ]
  },
  {
   "cell_type": "markdown",
   "id": "7c9e62ea",
   "metadata": {},
   "source": [
    "Data Analysis"
   ]
  },
  {
   "cell_type": "code",
   "execution_count": 2,
   "id": "38547401",
   "metadata": {},
   "outputs": [
    {
     "name": "stdout",
     "output_type": "stream",
     "text": [
      "[[  2.   3.   4.   5.   6.   7.]\n",
      " [  9.  45.  82. 119. 156. 191.]]\n",
      "[[  2.   3.   4.   5.   6.   7.]\n",
      " [ 17.  89. 164. 239. 314. 389.]]\n",
      "[[  1.   2.   3.   4.   5.   6.]\n",
      " [ 55. 122. 191. 259. 326. 393.]]\n",
      "[[  1.   2.   3.   4.   5.   6.]\n",
      " [ 11.  45.  80. 114. 148. 183.]]\n"
     ]
    }
   ],
   "source": [
    "#importing the data of systems 1 through 4 for Part 1 a\n",
    "#os.chdir('/Users/francodelbalso/Downloads')\n",
    "systems = np.genfromtxt('FinalSystems1-4.csv', delimiter=',')\n",
    "\n",
    "#seperating the data into each system\n",
    "system1 = []\n",
    "system2 = []\n",
    "system3 = []\n",
    "system4 = []\n",
    "\n",
    "for i in range(len(systems)):\n",
    "    if i < 6:\n",
    "        system1.append(systems[i])\n",
    "    elif i < 12: \n",
    "        system2.append(systems[i])\n",
    "    elif i < 18:\n",
    "        system3.append(systems[i])\n",
    "    else:\n",
    "        system4.append(systems[i])\n",
    "\n",
    "system1 = np.transpose(system1)\n",
    "system2 = np.transpose(system2)\n",
    "system3 = np.transpose(system3)\n",
    "system4 = np.transpose(system4)\n",
    "\n",
    "print(system1)\n",
    "print(system2)\n",
    "print(system3)\n",
    "print(system4)"
   ]
  },
  {
   "cell_type": "code",
   "execution_count": 3,
   "id": "845b4e69",
   "metadata": {},
   "outputs": [],
   "source": [
    "#defining quantities\n",
    "#masses in kg lengths in m\n",
    "mass25 = 24.4373/1000\n",
    "mass50 = 50.1393/1000\n",
    "SpulleyM = 10.0231/1000\n",
    "SpulleyR = (24.99/2)/1000\n",
    "LpulleyM = 36.0243/1000\n",
    "LpulleyR = (50/2)/1000\n",
    "LowSteelM = 1346.7/1000\n",
    "LowSteelR = (126.32/2)/1000\n",
    "UpSteelM = 1354.8/1000\n",
    "UpSteelR = (126.56/2)/1000\n",
    "UpAlumM = 470.8/1000\n",
    "UpAlumR = (126.25/2)/1000\n",
    "washerM = 1.0306/1000\n",
    "cylM = 25.48/1000\n",
    "cylRout = (22.93/2)/1000\n",
    "cylRin = (15.78/2)/1000\n",
    "spindleM = 15.83/1000\n",
    "g_montreal = 9.789"
   ]
  },
  {
   "cell_type": "code",
   "execution_count": 42,
   "id": "2eb0eca1",
   "metadata": {},
   "outputs": [],
   "source": [
    "#defining uncertainties in quantities\n",
    "\n",
    "mass25_unc = 0.0001/1000\n",
    "mass50_unc = 0.0001/1000\n",
    "SpulleyM_unc = 0.0001/1000\n",
    "SpulleyR_unc = 0.01/1000\n",
    "LpulleyM_unc = 0.0001/1000\n",
    "LpulleyR_unc = 0.01/1000\n",
    "LowSteelM_unc = 0.1/1000\n",
    "LowSteelR_unc = 0.01/1000\n",
    "UpSteelM_unc = 0.1/1000\n",
    "UpSteelR_unc = 0.01/1000\n",
    "UpAlumM_unc = 0.1/1000\n",
    "UpAlumR_unc = 0.01/1000\n",
    "washerM_unc = 0.0001/1000\n",
    "cylM_unc = 0.01/1000\n",
    "cylRout_unc = 0.01/1000\n",
    "cylRin_unc = 0.01/1000\n",
    "spindleM_unc = 0.01/1000\n",
    "g_montreal_unc = 0.01\n",
    "ruler_unc = 0.05/100 #cm to m\n",
    "#For frequency data, uncertainty is set to 1 due to instrumental uncertainties (digital equipment)\n",
    "frequency_unc = 1"
   ]
  },
  {
   "cell_type": "markdown",
   "id": "7cf5bf55",
   "metadata": {},
   "source": [
    "5.1"
   ]
  },
  {
   "cell_type": "code",
   "execution_count": 36,
   "id": "27ab8357",
   "metadata": {},
   "outputs": [],
   "source": [
    "#Error propagation functions\n",
    "\n",
    "def mult_div_unc(Z, aA, A, n, aB, B, m):\n",
    "    return ( Z * ( (n*aA/A)**2 + (m*aB/B)**2 )**0.5 )\n",
    "def mult_div_unc_3terms(Z, aA, A, n, aB, B, m, aC, C, l):\n",
    "    return (Z * ( (n*aA/A)**2 + (m*aB/B)**2 + (l*aC/C)**2)**0.5)\n",
    "def add_sub_unc(aA, n, aB, m):\n",
    "    return ( ((n*aA)**2 + (m*aB)**2)**0.5 )\n",
    "def add_sub_array_unc(array):\n",
    "    sum = 0\n",
    "    for i in range(len(array)):\n",
    "        sum += array[i]**2\n",
    "    return sum**0.5"
   ]
  },
  {
   "cell_type": "code",
   "execution_count": 43,
   "id": "075496df",
   "metadata": {},
   "outputs": [],
   "source": [
    "#calculating the angular acceleration and its uncertainty\n",
    "#here, 6 values will be used, but only 5 acceleratons will be calculated\n",
    "\n",
    "def AverageAngularAcc(system, Rdisk, Rdisk_unc):\n",
    "    sum = 0\n",
    "    sum_unc = []\n",
    "    for i in range(len(system[0])):\n",
    "        if i == 0:\n",
    "            continue #only need first value as the initial vprev\n",
    "        \n",
    "        dt = 1 #we are taking 1 second timesteps\n",
    "        v = system[1][i]*0.002 #tangential velocity as defined in manual\n",
    "        vprev = system[1][i-1]*0.002\n",
    "            \n",
    "        dw = (v-vprev)/Rdisk #change in angular velocity\n",
    "        \n",
    "        a = dw/dt\n",
    "        sum += a\n",
    "        \n",
    "        v_unc = mult_div_unc(v, frequency_unc, system[1][i],1, 0.00001, 0.002, 1)\n",
    "        vprev_unc = mult_div_unc(vprev, frequency_unc, system[1][i-1], 1, 0.00001, 0.002, 1)\n",
    "        v_sub_vprev_unc = add_sub_unc(v_unc, 1, vprev_unc, 1)\n",
    "        dw_unc = mult_div_unc(dw, v_sub_vprev_unc, (v - vprev), 1, Rdisk_unc, Rdisk, 1)\n",
    "        a_unc = dw_unc #since dt = 1\n",
    "        sum_unc.append(a_unc)\n",
    "    a_avg = sum/(len(system[0])-1) #average of the 5 calculated accels\n",
    "    a_unc = add_sub_array_unc(sum_unc) / len(sum_unc)\n",
    "    \n",
    "    return a_avg, a_unc\n",
    "\n",
    "a1 = AverageAngularAcc(system1,UpSteelR, UpSteelR_unc)[0]\n",
    "a2 = AverageAngularAcc(system2,UpSteelR, UpSteelR_unc)[0]\n",
    "a3 = AverageAngularAcc(system3,UpSteelR, UpSteelR_unc)[0]\n",
    "a4 = AverageAngularAcc(system4,UpSteelR, UpSteelR_unc)[0]\n",
    "\n",
    "a1_unc = AverageAngularAcc(system1,UpSteelR, UpSteelR_unc)[1]\n",
    "a2_unc = AverageAngularAcc(system2,UpSteelR, UpSteelR_unc)[1]\n",
    "a3_unc = AverageAngularAcc(system3,UpSteelR, UpSteelR_unc)[1]\n",
    "a4_unc = AverageAngularAcc(system4,UpSteelR, UpSteelR_unc)[1]\n",
    "\n",
    "#calculating moments of inertia and its uncertainty\n",
    "#will be adding I of pulley to I of disk since they both make up the rotating system\n",
    "#will be using Icylinder = (MR**2)/2\n",
    "\n",
    "I_UpSteel = (UpSteelM*UpSteelR**2)/2\n",
    "I_Spully = (SpulleyM*SpulleyR**2)/2\n",
    "I_Lpully = (LpulleyM*LpulleyR**2)/2\n",
    "\n",
    "I_UpSteel_unc = mult_div_unc(2*I_UpSteel, UpSteelM_unc, UpSteelM, 1, UpSteelR_unc, UpSteelR, 2)\n",
    "I_Spulley_unc = mult_div_unc(2*I_Spully, SpulleyM_unc, SpulleyM, 1, SpulleyR_unc, SpulleyR, 2)\n",
    "I_Lpulley_unc = mult_div_unc(2*I_Lpully, LpulleyM_unc, LpulleyM, 1, LpulleyR_unc, LpulleyR, 2)\n",
    "\n",
    "I1 = (UpSteelM*UpSteelR**2)/2 + (SpulleyM*SpulleyR**2)/2\n",
    "I2 = (UpSteelM*UpSteelR**2)/2 + (SpulleyM*SpulleyR**2)/2\n",
    "I3 = (UpSteelM*UpSteelR**2)/2 + (LpulleyM*LpulleyR**2)/2\n",
    "I4 = (2*UpSteelM*UpSteelR**2)/2 + (LpulleyM*LpulleyR**2)/2\n",
    "\n",
    "I1_unc = add_sub_unc(I_UpSteel_unc, 1, I_Spulley_unc, 1)\n",
    "I2_unc = add_sub_unc(I_UpSteel_unc, 1, I_Spulley_unc, 1)\n",
    "I3_unc = add_sub_unc(I_UpSteel_unc, 1, I_Lpulley_unc, 1)\n",
    "#I4_unc = \n",
    "\n",
    "\n",
    "#the torque Ia and its uncertainty Ia_unc will be determined for each system\n",
    "\n",
    "Ia1 = I1*a1\n",
    "Ia2 = I2*a2\n",
    "Ia3 = I3*a3\n",
    "Ia4 = I4*a4\n",
    "\n",
    "Ia1_unc = mult_div_unc(Ia1, I1_unc, I1, 1, a1_unc, a1, 1)\n",
    "Ia2_unc = mult_div_unc(Ia2, I2_unc, I2, 1, a2_unc, a2, 1)\n",
    "Ia3_unc = mult_div_unc(Ia3, I3_unc, I3, 1, a3_unc, a3, 1)\n",
    "#Ia4_unc = mult_div_unc(Ia4, I4_unc, I4, 1, a4_unc, a4, 1)\n",
    "\n",
    "#Now determining the torque by the Fr = mgr method and its uncertainty\n",
    "#m is mass, g is gravitational acceleration, r is radius of pulley\n",
    "\n",
    "Fr1 = mass25*g_montreal*SpulleyR\n",
    "Fr2 = mass50*g_montreal*SpulleyR\n",
    "Fr3 = mass25*g_montreal*LpulleyR\n",
    "Fr4 = mass25*g_montreal*LpulleyR\n",
    "\n",
    "Fr1_unc = mult_div_unc_3terms(Fr1, mass25_unc, mass25, 1, g_montreal_unc, g_montreal, 1, SpulleyR_unc, SpulleyR, 1)\n",
    "Fr2_unc = mult_div_unc_3terms(Fr2, mass50_unc, mass50, 1, g_montreal_unc, g_montreal, 1, SpulleyR_unc, SpulleyR, 1)\n",
    "Fr3_unc = mult_div_unc_3terms(Fr1, mass25_unc, mass25, 1, g_montreal_unc, g_montreal, 1, LpulleyR_unc, LpulleyR, 1)\n",
    "Fr4_unc = mult_div_unc_3terms(Fr1, mass25_unc, mass25, 1, g_montreal_unc, g_montreal, 1, SpulleyR_unc, LpulleyR, 1)"
   ]
  },
  {
   "cell_type": "code",
   "execution_count": 40,
   "id": "ed27b6ee",
   "metadata": {},
   "outputs": [
    {
     "name": "stdout",
     "output_type": "stream",
     "text": [
      "1.1504424778761062 2.351453855878635 2.13653603034134 1.0872313527180784\n",
      "1.1504424778761062 ± 0.02303220803434774\n",
      "2.351453855878635 ± 0.030523605355807316\n",
      "2.13653603034134 ± 0.031715057284666295\n",
      "1.0872313527180784 ± 0.022796921871682294\n"
     ]
    }
   ],
   "source": [
    "#Calculating uncertainties for angular acceleration\n",
    "print(a1, a2, a3, a4)\n",
    "    \n",
    "\n",
    "print(a1, '±', a1_unc)\n",
    "print(a2, '±', a2_unc)\n",
    "print(a3, '±', a3_unc)\n",
    "print(a4, '±', a4_unc)"
   ]
  },
  {
   "cell_type": "code",
   "execution_count": 41,
   "id": "b4b6eda1",
   "metadata": {},
   "outputs": [
    {
     "name": "stdout",
     "output_type": "stream",
     "text": [
      "4.33750192483677\n",
      "3.9569346529578433\n",
      "2.727134928510964\n",
      "1.1745796925579999\n"
     ]
    }
   ],
   "source": [
    "#Comparing the torques by %difference\n",
    "\n",
    "#system1\n",
    "percentDif1 = 100*abs(Fr1-Ia1)/np.mean([Fr1,Ia1])\n",
    "print(percentDif1)\n",
    "\n",
    "#system2\n",
    "percentDif2 = 100*abs(Fr2-Ia2)/np.mean([Fr2,Ia2])\n",
    "print(percentDif2)\n",
    "\n",
    "#system3\n",
    "percentDif3 = 100*abs(Fr3-Ia3)/np.mean([Fr3,Ia3])\n",
    "print(percentDif3)\n",
    "\n",
    "#system4\n",
    "percentDif4 = 100*abs(Fr4-Ia4)/np.mean([Fr4,Ia4])\n",
    "print(percentDif4)"
   ]
  },
  {
   "cell_type": "markdown",
   "id": "ce3a808e",
   "metadata": {},
   "source": [
    "5.1.1"
   ]
  },
  {
   "cell_type": "code",
   "execution_count": 9,
   "id": "23014cd5",
   "metadata": {},
   "outputs": [
    {
     "name": "stdout",
     "output_type": "stream",
     "text": [
      "[[15.   30.   45.   60.   75.   90.  ]\n",
      " [ 4.48  6.14  7.68  8.76  9.82 10.77]]\n"
     ]
    }
   ],
   "source": [
    "#importing time-distance measurements\n",
    "distanceTime = np.genfromtxt('distanceTimes.csv', delimiter=',')\n",
    "distanceTime = np.transpose(distanceTime)\n",
    "print(distanceTime)"
   ]
  },
  {
   "cell_type": "code",
   "execution_count": 67,
   "id": "aed38b1f",
   "metadata": {},
   "outputs": [
    {
     "name": "stdout",
     "output_type": "stream",
     "text": [
      "[0.035882509455, 0.07176501891, 0.10764752836500001, 0.14353003782, 0.179412547275, 0.21529505673000002]\n",
      "[0.0001250993252300365, 0.00014028856641141367, 0.00016247856172544193, 0.00018922220968165, 0.0002188564979960244, 0.00025035704355020813]\n",
      "[0.03902092788324105, 0.08309537830510677, 0.11950159164242574, 0.16329218135314133, 0.2030348801304855, 0.2430662800530105]\n",
      "[8.379904954345164, 14.632997976065473, 10.437252213029229, 12.88182034951611, 12.35324447898048, 12.117611628381066]\n"
     ]
    }
   ],
   "source": [
    "#decrease in potential energy\n",
    "def dU(measures):\n",
    "    dUs = []\n",
    "    dUs_unc = []\n",
    "    for i in range(len(measures[0])):\n",
    "        U = mass25*g_montreal*(measures[0][i]/100)\n",
    "        dUs.append(U)\n",
    "        dUs_unc.append(mult_div_unc_3terms(U, mass25_unc, mass25, 1, g_montreal_unc, g_montreal, 1, ruler_unc, measures[0][i]/100, 1))\n",
    "    return dUs, dUs_unc\n",
    "\n",
    "\n",
    "#kinetic energy gained by the mass\n",
    "def KEmass(measures):\n",
    "    dKmasses = []\n",
    "    finalVs = []\n",
    "    for i in range(len(measures[0])):\n",
    "        dh = measures[0][i]/100 #cm to meters \n",
    "        t = measures[1][i] \n",
    "        A = 2*dh/t**2 #a as defined in manual\n",
    "        v = np.sqrt(2*A*dh) #final velocity\n",
    "        finalVs.append(v)\n",
    "        dKmasses.append((mass25*v**2)/2) #formula for kinetic energy\n",
    "    return finalVs, dKmasses\n",
    "\n",
    "\n",
    "#rotational energy gained by rotating disk\n",
    "def REdisk(velocities):\n",
    "    REs = []\n",
    "    I = (UpSteelM*UpSteelR**2)/2 + (SpulleyM*SpulleyR**2)/2\n",
    "    for i in range(len(velocities)):\n",
    "        w = velocities[i]/SpulleyR #final angular velocity from the final velocity of mass and v = rw\n",
    "        REs.append((I*w**2)/2) #formula for rotational kinetic energy\n",
    "    return REs\n",
    "\n",
    "\n",
    "#getting total energy gained\n",
    "def Egained(KE,RE): \n",
    "    gained = []\n",
    "    for i in range(len(KE)):\n",
    "        gained.append(KE[i]+ RE[i])\n",
    "    return gained\n",
    "\n",
    "    \n",
    "#percent difference between E gained and potential lost\n",
    "def percentDiff(U,E):\n",
    "    percents = []\n",
    "    for i in range(len(U)):\n",
    "        diff = 100*abs(U[i]-E[i])/np.mean([U[i],E[i]]) #percent difference formula\n",
    "        percents.append(diff)\n",
    "    return percents\n",
    "\n",
    "\n",
    "potentials = dU(distanceTime)[0]\n",
    "velocities, kineticsMass = KEmass(distanceTime) \n",
    "rotEnergies = REdisk(velocities)\n",
    "Egained = Egained(kineticsMass,rotEnergies)\n",
    "#pctDiffs = percentDiff(potentials,Egained)\n",
    "\n",
    "potentials_unc = dU(distanceTime)[1]\n",
    "\n",
    "print(potentials)\n",
    "print(potentials_unc)\n",
    "print(Egained)\n",
    "print(pctDiffs)\n",
    "    \n"
   ]
  },
  {
   "cell_type": "code",
   "execution_count": 65,
   "id": "ce1f7d6f",
   "metadata": {},
   "outputs": [],
   "source": [
    "#least squares fit on potential lost vs kinetic energy gained\n",
    "\n",
    "def leastSquares(x,y, xerror):\n",
    "    #getting my sums\n",
    "    sumX = 0\n",
    "    for i in x:\n",
    "        sumX += i\n",
    "    \n",
    "    sumX2 = 0\n",
    "    for i in x:\n",
    "        sumX2 += i**2\n",
    "    \n",
    "    sumY = 0\n",
    "    for i in y:\n",
    "        sumY += i\n",
    "    \n",
    "    sumXY = 0\n",
    "    for i in range(len(x)):\n",
    "        sumXY += x[i]*y[i]\n",
    "    \n",
    "    N = len(x)\n",
    "    delta = (N*sumX2) - (sumX)**2\n",
    "    \n",
    "    #determining parameters m (gradient) and c (intercept)\n",
    "    c = (sumX2*sumY - sumX*sumXY)/delta\n",
    "    \n",
    "    m = (N*sumXY - sumX*sumY)/delta\n",
    "    \n",
    "    #the common uncertainty aCU\n",
    "    #first need sum involving m and c\n",
    "    sumMC = 0\n",
    "    for i in range(len(x)):\n",
    "        sumMC += (y[i] - m*x[i] - c)**2\n",
    "    \n",
    "    aCU = np.sqrt((1/(N-2))*sumMC)\n",
    "    \n",
    "    #now error on m (aM) and error on c (aC)  \n",
    "    aM = aCU*np.sqrt(N/delta)\n",
    "    aC = aCU*np.sqrt(sumX2/delta)\n",
    "    \n",
    "    #finally plotting\n",
    "    lineX = np.linspace(0,x[-1], 200)\n",
    "    lineY = m*lineX + c\n",
    "    testErrors = [0.02,0.01,0.03,0.02,0.02,0.01]\n",
    "    \n",
    "    fig, ax = plt.subplots(figsize=(5,3))\n",
    "    ax.errorbar(x,y, xerr=xerror, yerr=testErrors, markersize=4, elinewidth=1, c='r', fmt='o')\n",
    "    ax.set_title('Correspondence Between Potential Lost and Energy of Motion Gained')\n",
    "    ax.set_xlabel('Loss in Potential Energy')\n",
    "    ax.set_ylabel('Gain in Motion Energy')\n",
    "    \n",
    "    ax.plot(lineX,lineY)\n"
   ]
  },
  {
   "cell_type": "code",
   "execution_count": 66,
   "id": "49c6a958",
   "metadata": {},
   "outputs": [
    {
     "data": {
      "image/png": "[encoded data removed]",
      "text/plain": [
       "<Figure size 360x216 with 1 Axes>"
      ]
     },
     "metadata": {
      "needs_background": "light"
     },
     "output_type": "display_data"
    }
   ],
   "source": [
    "leastSquares(potentials, Egained, potentials_unc)\n"
   ]
  },
  {
   "cell_type": "code",
   "execution_count": null,
   "id": "d0db80c4",
   "metadata": {},
   "outputs": [],
   "source": []
  }
 ],
 "metadata": {
  "kernelspec": {
   "display_name": "Python 3 (ipykernel)",
   "language": "python",
   "name": "python3"
  },
  "language_info": {
   "codemirror_mode": {
    "name": "ipython",
    "version": 3
   },
   "file_extension": ".py",
   "mimetype": "text/x-python",
   "name": "python",
   "nbconvert_exporter": "python",
   "pygments_lexer": "ipython3",
   "version": "3.9.12"
  }
 },
 "nbformat": 4,
 "nbformat_minor": 5
}
